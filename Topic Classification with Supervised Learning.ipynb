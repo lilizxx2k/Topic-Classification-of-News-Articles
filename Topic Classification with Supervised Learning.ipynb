{
 "cells": [
  {
   "cell_type": "markdown",
   "id": "f34d77b9-9b89-4493-8218-2e9cb5e1d08b",
   "metadata": {},
   "source": [
    "# News Article Classification by Topic"
   ]
  },
  {
   "cell_type": "code",
   "execution_count": 8,
   "id": "bde31648-2f90-4a2d-9bea-197a04506168",
   "metadata": {},
   "outputs": [
    {
     "name": "stdout",
     "output_type": "stream",
     "text": [
      "BoW matrix shape: (72498, 53695)\n",
      "Ridge Logistic Regression test set accuracy:  0.9048275862068965\n",
      "Best Ridge Logistic Regression C: {'C': 1}\n"
     ]
    }
   ],
   "source": [
    "# Import libraries\n",
    "from sklearn.feature_extraction.text import CountVectorizer\n",
    "from sklearn.linear_model import LogisticRegression\n",
    "from sklearn.metrics import accuracy_score\n",
    "from sklearn.model_selection import GridSearchCV\n",
    "import warnings\n",
    "warnings.filterwarnings('ignore')\n",
    "\n",
    "# Load the data\n",
    "train = pd.read_csv('News_Category_Sample_train_topcats.csv')\n",
    "test = pd.read_csv('News_Category_Sample_test_topcats.csv')\n",
    "\n",
    "# Initialize CountVectorizer for unigrams \n",
    "vectorizer = CountVectorizer()\n",
    "\n",
    "# Fit and transform the 'snippet' column\n",
    "train_features = vectorizer.fit_transform(train['snippet']) # Tokenizes text to unigrams\n",
    "test_features = vectorizer.transform(test['snippet']) \n",
    "\n",
    "# View shape of resulting BoW matrix\n",
    "print(\"BoW matrix shape:\", train_features.shape)\n",
    "\n",
    "# Create labels\n",
    "train_labels = train['category'].tolist()\n",
    "test_labels = test['category'].tolist()\n",
    "\n",
    "# Ridge Regression\n",
    "lr_ridge = LogisticRegression(penalty=\"l2\", max_iter=1000).fit(train_features, train_labels)\n",
    "test_preds_ridge = lr_ridge.predict(test_features)\n",
    "print(\"Ridge Logistic Regression test set accuracy: \", accuracy_score(test_labels, test_preds_ridge))\n",
    "\n",
    "# Hyperparameter tuning \n",
    "ridge_params = {'C': [0.01, 0.1, 1, 10]}\n",
    "ridge_cv = GridSearchCV(LogisticRegression(penalty=\"l2\", max_iter=1000), ridge_params, cv=5, scoring=\"accuracy\")\n",
    "ridge_cv.fit(train_features, train_labels)\n",
    "best_ridge = ridge_cv.best_estimator_\n",
    "test_preds_ridge = best_ridge.predict(test_features)\n",
    "print(\"Best Ridge Logistic Regression C:\", ridge_cv.best_params_)"
   ]
  },
  {
   "cell_type": "markdown",
   "id": "b0e61e63-6240-449f-99ef-f0172b33467a",
   "metadata": {},
   "source": [
    "The matrix shape shows the number of documents in the data as the number of rows, and the number of unigrams as the number of columns. The matrix shape shows the number of documents in the data as the number of rows, and the number of unigrams as the number of columns. In this case we have 72,498 text samples and there are 53,695 unique unigram tokens. In this case we have 72,498 text samples and there are 53,695 unique unigram tokens.<br>\n",
    "The accuracy of our model is very high (90.48%). The hyperparameter C, which controls the trade-off between fitting the training data well and keeping model weights small i.e. regularization is shown to be best at its default value of 1, so there is no need to rerun the model after cross validating the hyperparameter."
   ]
  },
  {
   "cell_type": "code",
   "execution_count": null,
   "id": "bd02edf4-4b0d-441c-9e6d-a0543d3078ed",
   "metadata": {},
   "outputs": [],
   "source": []
  }
 ],
 "metadata": {
  "kernelspec": {
   "display_name": "Python 3 (ipykernel)",
   "language": "python",
   "name": "python3"
  },
  "language_info": {
   "codemirror_mode": {
    "name": "ipython",
    "version": 3
   },
   "file_extension": ".py",
   "mimetype": "text/x-python",
   "name": "python",
   "nbconvert_exporter": "python",
   "pygments_lexer": "ipython3",
   "version": "3.12.2"
  }
 },
 "nbformat": 4,
 "nbformat_minor": 5
}
